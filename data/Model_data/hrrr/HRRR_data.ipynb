{
 "cells": [
  {
   "cell_type": "code",
   "execution_count": 21,
   "id": "a36019e5-8335-4271-acf4-8339872bcfb7",
   "metadata": {
    "tags": []
   },
   "outputs": [],
   "source": [
    "import wget\n",
    "import requests\n",
    "from bs4 import BeautifulSoup\n",
    "import datetime\n",
    "import os\n",
    "os.remove(\"hrrr_data.grb2\")\n",
    "\n",
    "url = 'https://nomads.ncep.noaa.gov/cgi-bin/filter_hrrr_2d.pl'\n",
    "reqs = requests.get(url)\n",
    "soup = BeautifulSoup(reqs.text, 'html.parser')\n",
    "\n",
    "urls_gfs = []\n",
    "for link in soup.find_all('a'):\n",
    "    #print(link.get('href'))\n",
    "    urls_gfs.append(link.get('href'))\n",
    "    \n",
    "date = urls_gfs[0][-8::]\n",
    "\n",
    "# Get the current UTC time\n",
    "current_time = datetime.datetime.utcnow()\n",
    "\n",
    "hour = current_time.hour - 1\n",
    "\n",
    "\n",
    "# Format the new time in the format of \"HHMM\"\n",
    "time_str = hour\n",
    "if len(str(time_str)) == 1:\n",
    "    time_str = f'0{time_str}'\n",
    "else:\n",
    "    time_str = time_str\n",
    "\n",
    "ds_hrrr = wget.download(f'https://nomads.ncep.noaa.gov/cgi-bin/filter_hrrr_2d.pl?file=hrrr.t{time_str}z.wrfsfcf01.grib2&lev_2_m_above_ground=on&lev_10_m_above_ground=on&lev_250_mb=on&lev_500_mb=on&lev_700_mb=on&lev_850_mb=on&lev_1000_mb=on&lev_mean_sea_level=on&lev_surface=on&var_GUST=on&var_APCP=on&var_CFRZR=on&var_CICEP=on&var_CRAIN=on&var_CSNOW=on&var_REFD=on&var_DPT=on&var_HGT=on&var_MSLMA=on&var_PRATE=on&var_TMP=on&var_UGRD=on&var_VGRD=on&subregion=&leftlon=229&rightlon=297.5&toplat=55.5&bottomlat=20&dir=%2Fhrrr.{date}%2Fconus', out ='hrrr_data.grb2')\n",
    "\n",
    "    "
   ]
  },
  {
   "cell_type": "code",
   "execution_count": null,
   "id": "30c5704b-39c2-4272-92ac-e8c186e8e6dc",
   "metadata": {},
   "outputs": [],
   "source": []
  }
 ],
 "metadata": {
  "kernelspec": {
   "display_name": "Python 3 Development Environment",
   "language": "python",
   "name": "oct22"
  },
  "language_info": {
   "codemirror_mode": {
    "name": "ipython",
    "version": 3
   },
   "file_extension": ".py",
   "mimetype": "text/x-python",
   "name": "python",
   "nbconvert_exporter": "python",
   "pygments_lexer": "ipython3",
   "version": "3.10.8"
  }
 },
 "nbformat": 4,
 "nbformat_minor": 5
}
